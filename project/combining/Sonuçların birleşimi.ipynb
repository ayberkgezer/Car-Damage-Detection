{
 "cells": [
  {
   "cell_type": "code",
   "execution_count": 1,
   "id": "3a46710c",
   "metadata": {},
   "outputs": [],
   "source": [
    "#Import Libraries and Packages\n",
    "\n",
    "import os\n",
    "import json\n",
    "\n",
    "# keras imports\n",
    "from tensorflow.keras.utils import img_to_array, load_img\n",
    "from keras.utils.data_utils import get_file\n",
    "from keras.applications.vgg16 import VGG16, preprocess_input\n",
    "from tensorflow.keras.preprocessing import image\n",
    "from keras.models import Model\n",
    "\n",
    "\n",
    "import h5py\n",
    "import numpy as np\n",
    "import pickle as pk"
   ]
  },
  {
   "cell_type": "code",
   "execution_count": 2,
   "id": "ffe5a9c5",
   "metadata": {},
   "outputs": [],
   "source": [
    "import warnings\n",
    "warnings.filterwarnings('ignore')"
   ]
  },
  {
   "cell_type": "code",
   "execution_count": 3,
   "id": "7e46eb1e",
   "metadata": {},
   "outputs": [],
   "source": [
    "#Loading Models for various checks\n",
    "first_check = VGG16(weights='imagenet')\n",
    "second_check = pk.load(open(\"YourPath/cdmg/classifier.pickle\", 'rb')) #damaged vs whole\n",
    "third_check = pk.load(open(\"YourPath/FRS/classifier.pickle\", 'rb')) # Front Rear Side\n",
    "fourth_check = pk.load(open(\"YourPath/Severity/classifier.pickle\", 'rb')) # Minor Moderate Severe"
   ]
  },
  {
   "cell_type": "code",
   "execution_count": 4,
   "id": "1bcbbf47",
   "metadata": {},
   "outputs": [],
   "source": [
    "# Loading  valid categories for identifying cars using VGG16\n",
    "with open('cat_counter.pk', 'rb') as f:\n",
    "    cat_counter = pk.load(f)"
   ]
  },
  {
   "cell_type": "code",
   "execution_count": 5,
   "id": "dd3b4559",
   "metadata": {},
   "outputs": [
    {
     "data": {
      "text/plain": [
       "Counter({('n04252225', 'snowplow'): 7.086044100462459,\n",
       "         ('n03478589', 'half_track'): 0.8668185896240175,\n",
       "         ('n04461696', 'tow_truck'): 18.77435178961605,\n",
       "         ('n03126707', 'crane'): 0.1037681084126234,\n",
       "         ('n03417042', 'garbage_truck'): 1.4159725971985608,\n",
       "         ('n02701002', 'ambulance'): 5.5628304437268525,\n",
       "         ('n03977966', 'police_van'): 10.42100810923148,\n",
       "         ('n03345487', 'fire_engine'): 2.669070777017623,\n",
       "         ('n03670208', 'limousine'): 53.6091693774797,\n",
       "         ('n03594945', 'jeep'): 30.02313027821947,\n",
       "         ('n03930630', 'pickup'): 65.00294746865984,\n",
       "         ('n04467665', 'trailer_truck'): 3.2392273662262596,\n",
       "         ('n02814533', 'beach_wagon'): 67.8161769274011,\n",
       "         ('n03770679', 'minivan'): 132.04886324098334,\n",
       "         ('n02974003', 'car_wheel'): 17.176702222801396,\n",
       "         ('n03100240', 'convertible'): 91.41380487324204,\n",
       "         ('n03459775', 'grille'): 18.050603751893505,\n",
       "         ('n04285008', 'sports_car'): 116.25078039476648,\n",
       "         ('n04037443', 'racer'): 39.56545988708967,\n",
       "         ('n03769881', 'minibus'): 20.396584895643173,\n",
       "         ('n02930766', 'cab'): 17.854766851232853,\n",
       "         ('n03791053', 'motor_scooter'): 2.326991144567728,\n",
       "         ('n03891332', 'parking_meter'): 1.2871061542537063,\n",
       "         ('n03782006', 'monitor'): 0.13006143271923065,\n",
       "         ('n03776460', 'mobile_home'): 1.9781669937074184,\n",
       "         ('n03995372', 'power_drill'): 0.12424369156360626,\n",
       "         ('n04517823', 'vacuum'): 0.8155001886188984,\n",
       "         ('n03000684', 'chain_saw'): 0.31343038752675056,\n",
       "         ('n03485407', 'hand-held_computer'): 0.060390494763851166,\n",
       "         ('n02965783', 'car_mirror'): 1.3235951298847795,\n",
       "         ('n03445924', 'golfcart'): 2.6788829886354506,\n",
       "         ('n03649909', 'lawn_mower'): 1.1141233798116446,\n",
       "         ('n03796401', 'moving_van'): 14.755281193356495,\n",
       "         ('n03792972', 'mountain_tent'): 0.31567811220884323,\n",
       "         ('n04613696', 'yurt'): 0.4832748956978321,\n",
       "         ('n02917067', 'bullet_train'): 0.9943549111485481,\n",
       "         ('n03584829', 'iron'): 0.34617236629128456,\n",
       "         ('n04273569', 'speedboat'): 0.047450751066207886,\n",
       "         ('n04252077', 'snowmobile'): 1.6088926047086716,\n",
       "         ('n02704792', 'amphibian'): 1.4281163210980594,\n",
       "         ('n03895866', 'passenger_car'): 0.15566738555207849,\n",
       "         ('n04009552', 'projector'): 0.13864325731992722,\n",
       "         ('n03666591', 'lighter'): 0.057554248720407486,\n",
       "         ('n04120489', 'running_shoe'): 0.46978674829006195,\n",
       "         ('n04254680', 'soccer_ball'): 0.17073577642440796,\n",
       "         ('n03127747', 'crash_helmet'): 0.7266976786777377,\n",
       "         ('n03623198', 'knee_pad'): 0.07474516332149506,\n",
       "         ('n03877845', 'palace'): 0.04191002994775772,\n",
       "         ('n03444034', 'go-kart'): 0.5824022274464369,\n",
       "         ('n04065272', 'recreational_vehicle'): 3.7192196859396063,\n",
       "         ('n02992529', 'cellular_telephone'): 0.07393966615200043,\n",
       "         ('n03777568', 'Model_T'): 0.9100848659873009,\n",
       "         ('n06874185', 'traffic_light'): 0.2088020220398903,\n",
       "         ('n03976467', 'Polaroid_camera'): 0.20491883158683777,\n",
       "         ('n04004767', 'printer'): 0.08139106631278992,\n",
       "         ('n09428293', 'seashore'): 0.03638952225446701,\n",
       "         ('n03032252', 'cinema'): 0.30575641244649887,\n",
       "         ('n04204347', 'shopping_cart'): 0.15126865543425083,\n",
       "         ('n03529860', 'home_theater'): 0.06184015050530434,\n",
       "         ('n03457902', 'greenhouse'): 0.09260948747396469,\n",
       "         ('n03899768', 'patio'): 0.06233495473861694,\n",
       "         ('n04487081', 'trolleybus'): 0.4309680424630642,\n",
       "         ('n04208210', 'shovel'): 0.007061997894197702,\n",
       "         ('n02860847', 'bobsled'): 0.5590139087289572,\n",
       "         ('n04069434', 'reflex_camera'): 0.04609942063689232,\n",
       "         ('n04286575', 'spotlight'): 0.03678296133875847,\n",
       "         ('n03710193', 'mailbox'): 0.09888407960534096,\n",
       "         ('n03496892', 'harvester'): 0.08055976033210754,\n",
       "         ('n03384352', 'forklift'): 0.14135587960481644,\n",
       "         ('n03967562', 'plow'): 0.02366374433040619,\n",
       "         ('n04465501', 'tractor'): 0.05552859976887703,\n",
       "         ('n04146614', 'school_bus'): 0.023607049137353897,\n",
       "         ('n04404412', 'television'): 0.14801672101020813,\n",
       "         ('n04456115', 'torch'): 0.24401119351387024,\n",
       "         ('n02782093', 'balloon'): 0.11419779807329178,\n",
       "         ('n03355925', 'flagpole'): 0.09716567024588585,\n",
       "         ('n03662601', 'lifeboat'): 0.14262306690216064,\n",
       "         ('n04133789', 'sandal'): 0.04246549308300018,\n",
       "         ('n02971356', 'carton'): 0.037686120718717575,\n",
       "         ('n06794110', 'street_sign'): 0.037863247096538544,\n",
       "         ('n02776631', 'bakery'): 0.05904107913374901,\n",
       "         ('n03425413', 'gas_pump'): 0.034921836107969284,\n",
       "         ('n03344393', 'fireboat'): 0.052500005811452866,\n",
       "         ('n09193705', 'alp'): 0.08289466798305511,\n",
       "         ('n03197337', 'digital_watch'): 0.16312330961227417,\n",
       "         ('n03785016', 'moped'): 0.14909566938877106,\n",
       "         ('n04204238', 'shopping_basket'): 0.03290070220828056,\n",
       "         ('n04265275', 'space_heater'): 0.030981607735157013,\n",
       "         ('n04355338', 'sundial'): 0.1400328278541565,\n",
       "         ('n02950826', 'cannon'): 0.05690953508019447,\n",
       "         ('n04356056', 'sunglasses'): 0.02566942758858204,\n",
       "         ('n04335435', 'streetcar'): 0.48274219036102295,\n",
       "         ('n02747177', 'ashcan'): 0.13356968760490417,\n",
       "         ('n04542943', 'waffle_iron'): 0.12746143341064453,\n",
       "         ('n02988304', 'CD_player'): 0.09388768672943115,\n",
       "         ('n04336792', 'stretcher'): 0.03830265998840332,\n",
       "         ('n04243546', 'slot'): 0.036551136523485184,\n",
       "         ('n01833805', 'hummingbird'): 0.5929102301597595,\n",
       "         ('n03187595', 'dial_telephone'): 0.02124393917620182,\n",
       "         ('n04258138', 'solar_dish'): 0.4237592816352844,\n",
       "         ('n04049303', 'rain_barrel'): 0.03437027707695961})"
      ]
     },
     "execution_count": 5,
     "metadata": {},
     "output_type": "execute_result"
    }
   ],
   "source": [
    "cat_counter"
   ]
  },
  {
   "cell_type": "code",
   "execution_count": 6,
   "id": "e19eca59",
   "metadata": {},
   "outputs": [],
   "source": [
    "# shortlisting top 27 Categories that VGG16 stores for cars (Can be altered for less or more)\n",
    "cat_list  = [k for k, v in cat_counter.most_common()[:27]]"
   ]
  },
  {
   "cell_type": "code",
   "execution_count": 7,
   "id": "9160ff41",
   "metadata": {},
   "outputs": [
    {
     "data": {
      "text/plain": [
       "[('n03770679', 'minivan'),\n",
       " ('n04285008', 'sports_car'),\n",
       " ('n03100240', 'convertible'),\n",
       " ('n02814533', 'beach_wagon'),\n",
       " ('n03930630', 'pickup'),\n",
       " ('n03670208', 'limousine'),\n",
       " ('n04037443', 'racer'),\n",
       " ('n03594945', 'jeep'),\n",
       " ('n03769881', 'minibus'),\n",
       " ('n04461696', 'tow_truck'),\n",
       " ('n03459775', 'grille'),\n",
       " ('n02930766', 'cab'),\n",
       " ('n02974003', 'car_wheel'),\n",
       " ('n03796401', 'moving_van'),\n",
       " ('n03977966', 'police_van'),\n",
       " ('n04252225', 'snowplow'),\n",
       " ('n02701002', 'ambulance'),\n",
       " ('n04065272', 'recreational_vehicle'),\n",
       " ('n04467665', 'trailer_truck'),\n",
       " ('n03445924', 'golfcart'),\n",
       " ('n03345487', 'fire_engine'),\n",
       " ('n03791053', 'motor_scooter'),\n",
       " ('n03776460', 'mobile_home'),\n",
       " ('n04252077', 'snowmobile'),\n",
       " ('n02704792', 'amphibian'),\n",
       " ('n03417042', 'garbage_truck'),\n",
       " ('n02965783', 'car_mirror')]"
      ]
     },
     "execution_count": 7,
     "metadata": {},
     "output_type": "execute_result"
    }
   ],
   "source": [
    "cat_list"
   ]
  },
  {
   "cell_type": "code",
   "execution_count": 8,
   "id": "dd563c0a",
   "metadata": {},
   "outputs": [],
   "source": [
    "CLASS_INDEX = None"
   ]
  },
  {
   "cell_type": "code",
   "execution_count": 9,
   "id": "f64837c0",
   "metadata": {},
   "outputs": [],
   "source": [
    "CLASS_INDEX_PATH = 'YourPath/imagenet_class_index.json'"
   ]
  },
  {
   "cell_type": "code",
   "execution_count": 10,
   "id": "2fbf22e2",
   "metadata": {},
   "outputs": [],
   "source": [
    "def get_predictions(preds,top=5):\n",
    "    global CLASS_INDEX\n",
    "    \n",
    "    #Load the jason file\n",
    "    CLASS_INDEX = json.load(open(CLASS_INDEX_PATH))\n",
    "    \n",
    "    #get the results\n",
    "    results = []\n",
    "    for pred in preds:\n",
    "        top_indices = pred.argsort()[-top:][::-1]\n",
    "        result = [tuple(CLASS_INDEX[str(i)]) + (pred[i],) for i in top_indices]\n",
    "        result.sort(key=lambda x: x[2], reverse=True)\n",
    "        results.append(result)\n",
    "    return results"
   ]
  },
  {
   "cell_type": "code",
   "execution_count": 11,
   "id": "8df9259d",
   "metadata": {},
   "outputs": [],
   "source": [
    "def prepare_img_224(img_path):\n",
    "    img = load_img(img_path, target_size=(224, 224))\n",
    "    x = img_to_array(img)\n",
    "    x = np.expand_dims(x, axis=0)\n",
    "    x = preprocess_input(x)\n",
    "    return x"
   ]
  },
  {
   "cell_type": "code",
   "execution_count": 12,
   "id": "0d6e1586",
   "metadata": {},
   "outputs": [],
   "source": [
    "def car_categories_check(img_224, model):\n",
    "    print (\"Validating that this is a picture of your car...\")\n",
    "    out = model.predict(img_224)\n",
    "    top = get_predictions(out, top=5)\n",
    "    for j in top[0]:\n",
    "        if j[0:2] in cat_list:\n",
    "            print (\"Car Check Passed!!!\")\n",
    "            print (\"\\n\")\n",
    "            return True \n",
    "    return False"
   ]
  },
  {
   "cell_type": "code",
   "execution_count": 13,
   "id": "006fba5c",
   "metadata": {},
   "outputs": [],
   "source": [
    "def car_damage_check(classifier):\n",
    "    print (\"Validating that damage exists...\")\n",
    "    base_model = first_check\n",
    "    train_labels = ['Damaged', 'Not Damaged']\n",
    "    \n",
    "    model = Model(inputs=base_model.input, outputs=base_model.get_layer('fc1').output)\n",
    "    image_size = (224, 224)\n",
    "    img = image.load_img(img_path, target_size=image_size)\n",
    "    x = image.img_to_array(img)\n",
    "    x = np.expand_dims(x, axis=0)\n",
    "    x = preprocess_input(x)\n",
    "    feature = model.predict(x)\n",
    "    flat = feature.flatten()\n",
    "    flat = np.expand_dims(flat, axis=0)\n",
    "    preds = classifier.predict(flat)\n",
    "    prediction = train_labels[preds[0]]\n",
    "    \n",
    "    if train_labels[preds[0]] == 'Damaged':\n",
    "        print (\"Validation complete - proceeding to location and severity determination\")\n",
    "        print (\"\\n\")\n",
    "        return True \n",
    "    else:\n",
    "        return False"
   ]
  },
  {
   "cell_type": "code",
   "execution_count": 14,
   "id": "15218456",
   "metadata": {},
   "outputs": [],
   "source": [
    "def location_assessment(classifier):\n",
    "    print (\"Validating the damage area - Front, Rear or Side\")\n",
    "    base_model = first_check\n",
    "    train_labels = ['Front Damage', 'Rear Damage', 'Side Damage']\n",
    "    \n",
    "    model = Model(inputs=base_model.input, outputs=base_model.get_layer('fc1').output)\n",
    "    image_size = (224, 224)\n",
    "    img = image.load_img(img_path, target_size=image_size)\n",
    "    x = image.img_to_array(img)\n",
    "    x = np.expand_dims(x, axis=0)\n",
    "    x = preprocess_input(x)\n",
    "    feature = model.predict(x)\n",
    "    flat = feature.flatten()\n",
    "    flat = np.expand_dims(flat, axis=0)\n",
    "    preds = classifier.predict(flat)\n",
    "    prediction = train_labels[preds[0]]\n",
    "    print (\"Your Car is damaged at - \" + train_labels[preds[0]])\n",
    "    print (\"Location assesment complete\")\n",
    "    print(\"\\n\")"
   ]
  },
  {
   "cell_type": "code",
   "execution_count": 15,
   "id": "b3d2ab35",
   "metadata": {},
   "outputs": [],
   "source": [
    "def severity_assessment(classifier):\n",
    "    print (\"Validating the Severity...\")\n",
    "    base_model = first_check\n",
    "    train_labels = ['Minor Damage', 'Moderate Damage', 'Severe Damage']\n",
    "    \n",
    "    model = Model(inputs=base_model.input, outputs=base_model.get_layer('fc1').output)\n",
    "    image_size = (224, 224)\n",
    "    img = image.load_img(img_path, target_size=image_size)\n",
    "    x = image.img_to_array(img)\n",
    "    x = np.expand_dims(x, axis=0)\n",
    "    x = preprocess_input(x)\n",
    "    feature = model.predict(x)\n",
    "    flat = feature.flatten()\n",
    "    flat = np.expand_dims(flat, axis=0)\n",
    "    preds = classifier.predict(flat)\n",
    "    prediction = train_labels[preds[0]]\n",
    "    print (\"Your Car damage impact is - \" + train_labels[preds[0]])\n",
    "    print (\"Severity assesment complete\")"
   ]
  },
  {
   "cell_type": "code",
   "execution_count": 16,
   "id": "ea7eb51e",
   "metadata": {},
   "outputs": [],
   "source": [
    "def engine(img):\n",
    "    while True:\n",
    "        try:\n",
    "            img_224 = prepare_img_224(img)\n",
    "            g1 = car_categories_check(img_224, first_check)\n",
    "\n",
    "            if g1 is False:\n",
    "                print (\"Are you sure this is a picture of your car? Please submit another picture of the damage.\")\n",
    "                print (\"Hint: Try zooming in/out, using a different angle or different lighting.\")\n",
    "                break\n",
    "\n",
    "            g2 = car_damage_check(second_check)\n",
    "\n",
    "            if g2 is False:\n",
    "                print (\"Are you sure that your car is damaged? Please submit another picture of the damage.\")\n",
    "                print (\"Hint: Try zooming in/out, using a different angle or different lighting.\")\n",
    "                break\n",
    "\n",
    "            x = location_assessment(third_check)\n",
    "            y = severity_assessment(fourth_check)\n",
    "            break\n",
    "        except:\n",
    "            print (\"Image not accessible. Please try again.\")\n",
    "            break"
   ]
  },
  {
   "cell_type": "code",
   "execution_count": 21,
   "id": "80073f83",
   "metadata": {},
   "outputs": [],
   "source": [
    "img_path = 'C:/Users/Eisu/Desktop/engine/frontdamage.jpg'"
   ]
  },
  {
   "cell_type": "code",
   "execution_count": 22,
   "id": "03db46b5",
   "metadata": {},
   "outputs": [
    {
     "name": "stdout",
     "output_type": "stream",
     "text": [
      "Validating that this is a picture of your car...\n",
      "1/1 [==============================] - 0s 454ms/step\n",
      "Car Check Passed!!!\n",
      "\n",
      "\n",
      "Validating that damage exists...\n",
      "1/1 [==============================] - 0s 351ms/step\n",
      "Validation complete - proceeding to location and severity determination\n",
      "\n",
      "\n",
      "Validating the damage area - Front, Rear or Side\n",
      "1/1 [==============================] - 0s 419ms/step\n",
      "Your Car is damaged at - Front Damage\n",
      "Location assesment complete\n",
      "\n",
      "\n",
      "Validating the Severity...\n",
      "1/1 [==============================] - 0s 389ms/step\n",
      "Your Car damage impact is - Severe Damage\n",
      "Severity assesment complete\n"
     ]
    }
   ],
   "source": [
    "engine(img_path)"
   ]
  },
  {
   "cell_type": "code",
   "execution_count": null,
   "id": "79ef4ec6",
   "metadata": {},
   "outputs": [],
   "source": []
  }
 ],
 "metadata": {
  "kernelspec": {
   "display_name": "Python 3",
   "language": "python",
   "name": "python3"
  },
  "language_info": {
   "codemirror_mode": {
    "name": "ipython",
    "version": 3
   },
   "file_extension": ".py",
   "mimetype": "text/x-python",
   "name": "python",
   "nbconvert_exporter": "python",
   "pygments_lexer": "ipython3",
   "version": "3.9.9 (v3.9.9:ccb0e6a345, Nov 15 2021, 13:06:05) \n[Clang 13.0.0 (clang-1300.0.29.3)]"
  },
  "vscode": {
   "interpreter": {
    "hash": "aee8b7b246df8f9039afb4144a1f6fd8d2ca17a180786b69acc140d282b71a49"
   }
  }
 },
 "nbformat": 4,
 "nbformat_minor": 5
}
