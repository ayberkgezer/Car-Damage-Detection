{
 "cells": [
  {
   "cell_type": "code",
   "execution_count": 2,
   "id": "0a871e35",
   "metadata": {},
   "outputs": [],
   "source": [
    "# keras imports\n",
    "from keras.applications.vgg16 import VGG16, preprocess_input\n",
    "from tensorflow.keras.preprocessing import image\n",
    "from keras.models import Model\n",
    "from keras.layers import Input\n",
    "\n",
    "# other imports\n",
    "from sklearn.linear_model import LogisticRegression\n",
    "import numpy as np\n",
    "import os\n",
    "import json\n",
    "import pickle"
   ]
  },
  {
   "cell_type": "code",
   "execution_count": 3,
   "id": "cc2eb9c6",
   "metadata": {},
   "outputs": [],
   "source": [
    "config={\n",
    "  \"model\"           : \"vgg16\",\n",
    "  \"weights\"         : \"imagenet\",\n",
    "  \"features_path\"   : \"C:/Users/Eisu/Desktop/cdd/car_damage_check/features.h5\",\n",
    "  \"labels_path\"     : \"C:/Users/Eisu/Desktop/cdd/car_damage_check/labels.h5\",\n",
    "  \"classifier_path\" : \"C:/Users/Eisu/Desktop/cdd/car_damage_check/classifier.pickle\",\n",
    "  \"model_path\"      : \"C:/Users/Eisu/Desktop/cdd/car_damage_check/model\",\n",
    "}"
   ]
  },
  {
   "cell_type": "code",
   "execution_count": 5,
   "id": "ce002c94",
   "metadata": {},
   "outputs": [
    {
     "name": "stdout",
     "output_type": "stream",
     "text": [
      "[INFO] loading the classifier...\n"
     ]
    }
   ],
   "source": [
    "# load the trained logistic regression classifier\n",
    "print (\"[INFO] loading the classifier...\")\n",
    "classifier = pickle.load(open(config[\"classifier_path\"], 'rb'))\n",
    "\n",
    "# pretrained models needed to perform feature extraction on test data too!\n",
    "if config[\"model\"] == \"vgg16\":\n",
    "\tbase_model = VGG16(weights=config[\"weights\"])\n",
    "\tmodel = Model(inputs=base_model.input, outputs=base_model.get_layer('fc1').output)\n",
    "\timage_size = (224, 224)\n",
    "\n",
    "else:\n",
    "\tbase_model = None"
   ]
  },
  {
   "cell_type": "code",
   "execution_count": 13,
   "id": "dd375332",
   "metadata": {},
   "outputs": [
    {
     "name": "stdout",
     "output_type": "stream",
     "text": [
      "1/1 [==============================] - 0s 157ms/step\n"
     ]
    }
   ],
   "source": [
    "#read in the image, pre-proces the image and make predictions\n",
    "img = image.load_img('C:/Users/Eisu/Desktop/weird.png', target_size=image_size)\n",
    "x = image.img_to_array(img)\n",
    "x = np.expand_dims(x, axis=0)\n",
    "x = preprocess_input(x)\n",
    "feature = model.predict(x)\n",
    "flat = feature.flatten()\n",
    "flat = np.expand_dims(flat, axis=0)\n",
    "preds = classifier.predict(flat)"
   ]
  },
  {
   "cell_type": "code",
   "execution_count": 14,
   "id": "d0a46ad7",
   "metadata": {},
   "outputs": [
    {
     "data": {
      "text/plain": [
       "array([1], dtype=int64)"
      ]
     },
     "execution_count": 14,
     "metadata": {},
     "output_type": "execute_result"
    }
   ],
   "source": [
    "preds"
   ]
  },
  {
   "cell_type": "code",
   "execution_count": 15,
   "id": "37a1b9f4",
   "metadata": {},
   "outputs": [],
   "source": [
    "label_check1 = ['Car is Damaged', 'Car is not Damaged']"
   ]
  },
  {
   "cell_type": "code",
   "execution_count": 16,
   "id": "1c742f7e",
   "metadata": {},
   "outputs": [
    {
     "data": {
      "text/plain": [
       "'Car is not Damaged'"
      ]
     },
     "execution_count": 16,
     "metadata": {},
     "output_type": "execute_result"
    }
   ],
   "source": [
    "label_check1[preds[0]]"
   ]
  },
  {
   "cell_type": "code",
   "execution_count": 17,
   "id": "6b2e8387",
   "metadata": {},
   "outputs": [
    {
     "data": {
      "text/plain": [
       "1"
      ]
     },
     "execution_count": 17,
     "metadata": {},
     "output_type": "execute_result"
    }
   ],
   "source": [
    "preds[0]"
   ]
  },
  {
   "cell_type": "code",
   "execution_count": null,
   "id": "3daa7d17",
   "metadata": {},
   "outputs": [],
   "source": []
  }
 ],
 "metadata": {
  "kernelspec": {
   "display_name": "Python 3 (ipykernel)",
   "language": "python",
   "name": "python3"
  },
  "language_info": {
   "codemirror_mode": {
    "name": "ipython",
    "version": 3
   },
   "file_extension": ".py",
   "mimetype": "text/x-python",
   "name": "python",
   "nbconvert_exporter": "python",
   "pygments_lexer": "ipython3",
   "version": "3.10.8"
  }
 },
 "nbformat": 4,
 "nbformat_minor": 5
}
