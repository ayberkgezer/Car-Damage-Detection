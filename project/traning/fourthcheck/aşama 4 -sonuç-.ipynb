{
 "cells": [
  {
   "cell_type": "code",
   "execution_count": 1,
   "id": "eec39462",
   "metadata": {},
   "outputs": [],
   "source": [
    "# keras imports\n",
    "from keras.applications.vgg16 import VGG16, preprocess_input\n",
    "from tensorflow.keras.preprocessing import image\n",
    "from keras.models import Model\n",
    "from keras.layers import Input\n",
    "\n",
    "# other imports\n",
    "from sklearn.linear_model import LogisticRegression\n",
    "import numpy as np\n",
    "import os\n",
    "import json\n",
    "import pickle"
   ]
  },
  {
   "cell_type": "code",
   "execution_count": 2,
   "id": "69cbe34a",
   "metadata": {},
   "outputs": [],
   "source": [
    "config={\n",
    "  \"model\"           : \"vgg16\",\n",
    "  \"weights\"         : \"imagenet\",\n",
    "\n",
    "  \"classifier_path\" : \"C:/Users/Eisu/Desktop/cdd/car_damage_check/Severity/classifier.pickle\",\n",
    "\n",
    "}"
   ]
  },
  {
   "cell_type": "code",
   "execution_count": 3,
   "id": "1bb4fac9",
   "metadata": {},
   "outputs": [
    {
     "name": "stdout",
     "output_type": "stream",
     "text": [
      "[INFO] loading the classifier...\n"
     ]
    }
   ],
   "source": [
    "# load the trained logistic regression classifier\n",
    "print (\"[INFO] loading the classifier...\")\n",
    "classifier = pickle.load(open(config[\"classifier_path\"], 'rb'))\n",
    "\n",
    "# pretrained models needed to perform feature extraction on test data too!\n",
    "if config[\"model\"] == \"vgg16\":\n",
    "\tbase_model = VGG16(weights=config[\"weights\"])\n",
    "\tmodel = Model(inputs=base_model.input, outputs=base_model.get_layer('fc1').output)\n",
    "\timage_size = (224, 224)\n",
    "\n",
    "else:\n",
    "\tbase_model = None"
   ]
  },
  {
   "cell_type": "code",
   "execution_count": 4,
   "id": "08d8f80f",
   "metadata": {},
   "outputs": [
    {
     "name": "stdout",
     "output_type": "stream",
     "text": [
      "1/1 [==============================] - 0s 428ms/step\n"
     ]
    }
   ],
   "source": [
    "#read in the image, pre-proces the image and make predictions\n",
    "img = image.load_img('C:/Users/Eisu/Desktop/frontdamage.jpg', target_size=image_size)\n",
    "x = image.img_to_array(img)\n",
    "x = np.expand_dims(x, axis=0)\n",
    "x = preprocess_input(x)\n",
    "feature = model.predict(x)\n",
    "flat = feature.flatten()\n",
    "flat = np.expand_dims(flat, axis=0)\n",
    "preds = classifier.predict(flat)"
   ]
  },
  {
   "cell_type": "code",
   "execution_count": 5,
   "id": "db696efd",
   "metadata": {},
   "outputs": [
    {
     "data": {
      "text/plain": [
       "array([2], dtype=int64)"
      ]
     },
     "execution_count": 5,
     "metadata": {},
     "output_type": "execute_result"
    }
   ],
   "source": [
    "preds"
   ]
  },
  {
   "cell_type": "code",
   "execution_count": 6,
   "id": "5c1326a4",
   "metadata": {},
   "outputs": [],
   "source": [
    "label_check1 = ['Minor Damage', 'Moderate Damage', 'Severe Damage']"
   ]
  },
  {
   "cell_type": "code",
   "execution_count": 7,
   "id": "ab97837e",
   "metadata": {},
   "outputs": [
    {
     "data": {
      "text/plain": [
       "'Severe Damage'"
      ]
     },
     "execution_count": 7,
     "metadata": {},
     "output_type": "execute_result"
    }
   ],
   "source": [
    "label_check1[preds[0]]"
   ]
  },
  {
   "cell_type": "code",
   "execution_count": null,
   "id": "295a6fd7",
   "metadata": {},
   "outputs": [],
   "source": []
  }
 ],
 "metadata": {
  "kernelspec": {
   "display_name": "Python 3 (ipykernel)",
   "language": "python",
   "name": "python3"
  },
  "language_info": {
   "codemirror_mode": {
    "name": "ipython",
    "version": 3
   },
   "file_extension": ".py",
   "mimetype": "text/x-python",
   "name": "python",
   "nbconvert_exporter": "python",
   "pygments_lexer": "ipython3",
   "version": "3.10.8"
  }
 },
 "nbformat": 4,
 "nbformat_minor": 5
}
